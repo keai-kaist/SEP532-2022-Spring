{
 "cells": [
  {
   "cell_type": "markdown",
   "metadata": {},
   "source": [
    "# SEP532 - 인공지능 이론과 실제 (2022 Spring)\n",
    "## Deep Learning Practice \n",
    "#### Prof. Ho-Jin Choi\n",
    "#### School of Computing, KAIST\n",
    "\n",
    "---"
   ]
  },
  {
   "cell_type": "markdown",
   "metadata": {},
   "source": [
    "# 6. Save and restore models\n",
    "\n",
    "Model progress can be saved during—and after—training. This means a model can resume where it left off and avoid long training times. Saving also means you can share your model and others can recreate your work. When publishing research models and techniques, most machine learning practitioners share:\n",
    "- code to create the model, and\n",
    "- the trained weights, or parameters, for the model\n",
    "\n",
    "Sharing this data helps others understand how the model works and try it themselves with new data."
   ]
  },
  {
   "cell_type": "markdown",
   "metadata": {},
   "source": [
    "## Setup\n",
    "\n",
    "Install and import TensorFlow and dependencies:"
   ]
  },
  {
   "cell_type": "code",
   "execution_count": 1,
   "metadata": {},
   "outputs": [
    {
     "name": "stdout",
     "output_type": "stream",
     "text": [
      "\u001b[33mWARNING: Running pip as the 'root' user can result in broken permissions and conflicting behaviour with the system package manager. It is recommended to use a virtual environment instead: https://pip.pypa.io/warnings/venv\u001b[0m\u001b[33m\n",
      "\u001b[0m"
     ]
    }
   ],
   "source": [
    "try:\n",
    "  # %tensorflow_version only exists in Colab.\n",
    "  %tensorflow_version 2.x\n",
    "except Exception:\n",
    "    pass\n",
    "\n",
    "!pip install -q pyyaml h5py  # Required to save models in HDF5 format"
   ]
  },
  {
   "cell_type": "code",
   "execution_count": 2,
   "metadata": {},
   "outputs": [
    {
     "name": "stdout",
     "output_type": "stream",
     "text": [
      "2.7.0\n"
     ]
    }
   ],
   "source": [
    "from __future__ import absolute_import, division, print_function, unicode_literals\n",
    "\n",
    "import os\n",
    "\n",
    "import tensorflow as tf\n",
    "from tensorflow import keras\n",
    "\n",
    "print(tf.version.VERSION)"
   ]
  },
  {
   "cell_type": "markdown",
   "metadata": {},
   "source": [
    "## Get an example dataset\n",
    "\n",
    "To demonstrate how to save and load weights, you'll use the MNIST dataset. To speed up these runs, use the first 1000 examples:"
   ]
  },
  {
   "cell_type": "code",
   "execution_count": 3,
   "metadata": {},
   "outputs": [],
   "source": [
    "(train_images, train_labels), (test_images, test_labels) = tf.keras.datasets.mnist.load_data()\n",
    "\n",
    "train_labels = train_labels[:1000]\n",
    "test_labels = test_labels[:1000]\n",
    "\n",
    "train_images = train_images[:1000].reshape(-1, 28 * 28) / 255.0\n",
    "test_images = test_images[:1000].reshape(-1, 28 * 28) / 255.0"
   ]
  },
  {
   "cell_type": "markdown",
   "metadata": {},
   "source": [
    "## Define model \n",
    "Start by building a simple sequential model:"
   ]
  },
  {
   "cell_type": "code",
   "execution_count": 5,
   "metadata": {},
   "outputs": [
    {
     "name": "stdout",
     "output_type": "stream",
     "text": [
      "Model: \"sequential_1\"\n",
      "_________________________________________________________________\n",
      " Layer (type)                Output Shape              Param #   \n",
      "=================================================================\n",
      " dense_2 (Dense)             (None, 512)               401920    \n",
      "                                                                 \n",
      " dropout_1 (Dropout)         (None, 512)               0         \n",
      "                                                                 \n",
      " dense_3 (Dense)             (None, 10)                5130      \n",
      "                                                                 \n",
      "=================================================================\n",
      "Total params: 407,050\n",
      "Trainable params: 407,050\n",
      "Non-trainable params: 0\n",
      "_________________________________________________________________\n"
     ]
    }
   ],
   "source": [
    "# Define a simple sequential model\n",
    "def create_model():\n",
    "    model = tf.keras.models.Sequential([\n",
    "        keras.layers.Dense(512, activation='relu', input_shape=(784,)),\n",
    "        keras.layers.Dropout(0.2),\n",
    "        keras.layers.Dense(10, activation='softmax')\n",
    "      ])\n",
    "    \n",
    "    model.compile(optimizer='adam',\n",
    "                loss='sparse_categorical_crossentropy',\n",
    "                metrics=['accuracy'])\n",
    "    \n",
    "    return model\n",
    "\n",
    "# Create a basic model instance\n",
    "model = create_model()\n",
    "\n",
    "# Display the model's architecture\n",
    "model.summary()"
   ]
  },
  {
   "cell_type": "markdown",
   "metadata": {},
   "source": [
    "## Save checkpoints during training (Save weights only)\n",
    "\n",
    "You can use a _trained model_ without having to retrain it, or pick-up training where you left off—in case the training process was interrupted. The [`tf.keras.callbacks.ModelCheckpoint`](https://www.tensorflow.org/versions/r2.0/api_docs/python/tf/keras/callbacks/ModelCheckpoint) callback allows to continually save the model both during and at the end of training.\n",
    "\n",
    "### Checkpoint callback usage\n",
    "Create a tf.keras.callbacks.ModelCheckpoint callback that **_saves weights only_** during training:"
   ]
  },
  {
   "cell_type": "code",
   "execution_count": 8,
   "metadata": {},
   "outputs": [],
   "source": [
    "ckpt_path_for_t1 = \"checkpoints/training_1/cp.ckpt\"\n",
    "ckpt_dir_for_t1 = os.path.dirname(ckpt_path_for_t1)\n",
    "\n",
    "# Create a callback that saves the model's weights\n",
    "cp_callback = tf.keras.callbacks.ModelCheckpoint(filepath=ckpt_path_for_t1,\n",
    "                                                 save_weights_only=True,\n",
    "                                                 save_best_only=True,\n",
    "                                                 verbose=1)"
   ]
  },
  {
   "cell_type": "code",
   "execution_count": 9,
   "metadata": {},
   "outputs": [
    {
     "name": "stdout",
     "output_type": "stream",
     "text": [
      "Epoch 1/10\n",
      " 1/32 [..............................] - ETA: 0s - loss: 0.0233 - accuracy: 1.0000\n",
      "Epoch 00001: val_loss improved from inf to 0.40160, saving model to checkpoints/training_1/cp.ckpt\n",
      "32/32 [==============================] - 0s 4ms/step - loss: 0.0305 - accuracy: 1.0000 - val_loss: 0.4016 - val_accuracy: 0.8720\n",
      "Epoch 2/10\n",
      " 1/32 [..............................] - ETA: 0s - loss: 0.0326 - accuracy: 1.0000\n",
      "Epoch 00002: val_loss improved from 0.40160 to 0.39532, saving model to checkpoints/training_1/cp.ckpt\n",
      "32/32 [==============================] - 0s 3ms/step - loss: 0.0245 - accuracy: 0.9980 - val_loss: 0.3953 - val_accuracy: 0.8760\n",
      "Epoch 3/10\n",
      "19/32 [================>.............] - ETA: 0s - loss: 0.0204 - accuracy: 1.0000\n",
      "Epoch 00003: val_loss improved from 0.39532 to 0.39093, saving model to checkpoints/training_1/cp.ckpt\n",
      "32/32 [==============================] - 0s 6ms/step - loss: 0.0215 - accuracy: 1.0000 - val_loss: 0.3909 - val_accuracy: 0.8750\n",
      "Epoch 4/10\n",
      " 1/32 [..............................] - ETA: 0s - loss: 0.0130 - accuracy: 1.0000\n",
      "Epoch 00004: val_loss did not improve from 0.39093\n",
      "32/32 [==============================] - 0s 2ms/step - loss: 0.0202 - accuracy: 0.9980 - val_loss: 0.4146 - val_accuracy: 0.8730\n",
      "Epoch 5/10\n",
      " 1/32 [..............................] - ETA: 0s - loss: 0.0147 - accuracy: 1.0000\n",
      "Epoch 00005: val_loss did not improve from 0.39093\n",
      "32/32 [==============================] - 0s 2ms/step - loss: 0.0141 - accuracy: 1.0000 - val_loss: 0.4020 - val_accuracy: 0.8770\n",
      "Epoch 6/10\n",
      " 1/32 [..............................] - ETA: 0s - loss: 0.0236 - accuracy: 1.0000\n",
      "Epoch 00006: val_loss did not improve from 0.39093\n",
      "32/32 [==============================] - 0s 2ms/step - loss: 0.0141 - accuracy: 1.0000 - val_loss: 0.4139 - val_accuracy: 0.8730\n",
      "Epoch 7/10\n",
      " 1/32 [..............................] - ETA: 0s - loss: 0.0109 - accuracy: 1.0000\n",
      "Epoch 00007: val_loss did not improve from 0.39093\n",
      "32/32 [==============================] - 0s 2ms/step - loss: 0.0114 - accuracy: 1.0000 - val_loss: 0.4090 - val_accuracy: 0.8750\n",
      "Epoch 8/10\n",
      " 1/32 [..............................] - ETA: 0s - loss: 0.0131 - accuracy: 1.0000\n",
      "Epoch 00008: val_loss did not improve from 0.39093\n",
      "32/32 [==============================] - 0s 2ms/step - loss: 0.0096 - accuracy: 1.0000 - val_loss: 0.4231 - val_accuracy: 0.8750\n",
      "Epoch 9/10\n",
      " 1/32 [..............................] - ETA: 0s - loss: 0.0065 - accuracy: 1.0000\n",
      "Epoch 00009: val_loss did not improve from 0.39093\n",
      "32/32 [==============================] - 0s 2ms/step - loss: 0.0083 - accuracy: 1.0000 - val_loss: 0.4102 - val_accuracy: 0.8770\n",
      "Epoch 10/10\n",
      " 1/32 [..............................] - ETA: 0s - loss: 0.0055 - accuracy: 1.0000\n",
      "Epoch 00010: val_loss did not improve from 0.39093\n",
      "32/32 [==============================] - 0s 2ms/step - loss: 0.0080 - accuracy: 1.0000 - val_loss: 0.4246 - val_accuracy: 0.8700\n"
     ]
    },
    {
     "data": {
      "text/plain": [
       "<keras.callbacks.History at 0x7f2538188dd8>"
      ]
     },
     "execution_count": 9,
     "metadata": {},
     "output_type": "execute_result"
    }
   ],
   "source": [
    "# Train the model with the new callback\n",
    "model.fit(train_images, \n",
    "          train_labels,  \n",
    "          epochs=10,\n",
    "          validation_data=(test_images, test_labels),\n",
    "          callbacks=[cp_callback])  # Pass callback to training\n",
    "\n",
    "# This may generate warnings related to saving the state of the optimizer.\n",
    "# These warnings (and similar warnings throughout this notebook)\n",
    "# are in place to discourage outdated usage, and can be ignored."
   ]
  },
  {
   "cell_type": "markdown",
   "metadata": {},
   "source": [
    "This creates a single collection of TensorFlow checkpoint files that are updated at the end of each epoch:"
   ]
  },
  {
   "cell_type": "code",
   "execution_count": 10,
   "metadata": {},
   "outputs": [
    {
     "name": "stdout",
     "output_type": "stream",
     "text": [
      "checkpoint  cp.ckpt.data-00000-of-00001  cp.ckpt.index\n"
     ]
    }
   ],
   "source": [
    "!ls {ckpt_dir_for_t1}"
   ]
  },
  {
   "cell_type": "markdown",
   "metadata": {},
   "source": [
    "Create a new, untrained model. When restoring a model from weights-only, you **must have a model with the same architecture as the original model.** Since it's the same model architecture, **you can share weights** despite that it's a different instance of the model.\n",
    "\n",
    "Now rebuild a fresh, untrained model, and evaluate it on the test set. An untrained model will perform at chance levels (~10% accuracy):"
   ]
  },
  {
   "cell_type": "code",
   "execution_count": 11,
   "metadata": {},
   "outputs": [
    {
     "name": "stdout",
     "output_type": "stream",
     "text": [
      "32/32 - 0s - loss: 2.3364 - accuracy: 0.0470 - 130ms/epoch - 4ms/step\n",
      "Untrained model, accuracy:  4.70%\n"
     ]
    }
   ],
   "source": [
    "# Create a basic model instance\n",
    "model = create_model()\n",
    "\n",
    "# Evaluate the model\n",
    "loss, acc = model.evaluate(test_images, test_labels, verbose=2)\n",
    "print(\"Untrained model, accuracy: {:5.2f}%\".format(100*acc))"
   ]
  },
  {
   "cell_type": "markdown",
   "metadata": {},
   "source": [
    "Then load the weights from the checkpoint and re-evaluate:"
   ]
  },
  {
   "cell_type": "code",
   "execution_count": 13,
   "metadata": {},
   "outputs": [
    {
     "name": "stdout",
     "output_type": "stream",
     "text": [
      "32/32 - 0s - loss: 0.3909 - accuracy: 0.8750 - 40ms/epoch - 1ms/step\n",
      "Restored model, accuracy: 87.50%\n"
     ]
    }
   ],
   "source": [
    "# Loads the weights\n",
    "model.load_weights(ckpt_path_for_t1)\n",
    "\n",
    "# Re-evaluate the model\n",
    "loss,acc = model.evaluate(test_images, test_labels, verbose=2)\n",
    "print(\"Restored model, accuracy: {:5.2f}%\".format(100*acc))"
   ]
  },
  {
   "cell_type": "markdown",
   "metadata": {},
   "source": [
    "### Checkpoint callback options\n",
    "\n",
    "The callback provides several options to provide unique names for checkpoints and adjust the checkpointing frequency. \n",
    "\n",
    "Train a new model, and **save uniquely named checkpoints once every five epochs**:"
   ]
  },
  {
   "cell_type": "code",
   "execution_count": 14,
   "metadata": {},
   "outputs": [
    {
     "name": "stdout",
     "output_type": "stream",
     "text": [
      "WARNING:tensorflow:`period` argument is deprecated. Please use `save_freq` to specify the frequency in number of batches seen.\n",
      "\n",
      "Epoch 00005: saving model to checkpoints/training_2/cp-0005.ckpt\n",
      "\n",
      "Epoch 00010: saving model to checkpoints/training_2/cp-0010.ckpt\n",
      "\n",
      "Epoch 00015: saving model to checkpoints/training_2/cp-0015.ckpt\n",
      "\n",
      "Epoch 00020: saving model to checkpoints/training_2/cp-0020.ckpt\n",
      "\n",
      "Epoch 00025: saving model to checkpoints/training_2/cp-0025.ckpt\n",
      "\n",
      "Epoch 00030: saving model to checkpoints/training_2/cp-0030.ckpt\n",
      "\n",
      "Epoch 00035: saving model to checkpoints/training_2/cp-0035.ckpt\n",
      "\n",
      "Epoch 00040: saving model to checkpoints/training_2/cp-0040.ckpt\n",
      "\n",
      "Epoch 00045: saving model to checkpoints/training_2/cp-0045.ckpt\n",
      "\n",
      "Epoch 00050: saving model to checkpoints/training_2/cp-0050.ckpt\n"
     ]
    },
    {
     "data": {
      "text/plain": [
       "<keras.callbacks.History at 0x7f25e09cf2e8>"
      ]
     },
     "execution_count": 14,
     "metadata": {},
     "output_type": "execute_result"
    }
   ],
   "source": [
    "# Include the epoch in the file name (uses `str.format`)\n",
    "ckpt_path_for_t2 = \"checkpoints/training_2/cp-{epoch:04d}.ckpt\"\n",
    "ckpt_dir_for_t2 = os.path.dirname(ckpt_path_for_t2)\n",
    "\n",
    "if not os.path.exists(ckpt_dir_for_t2):\n",
    "    os.makedirs(ckpt_dir_for_t2)\n",
    "\n",
    "# Create a callback that saves the model's weights every 5 epochs\n",
    "cp_callback = tf.keras.callbacks.ModelCheckpoint(filepath=ckpt_path_for_t2, \n",
    "                                                 verbose=1, \n",
    "                                                 save_weights_only=True,\n",
    "                                                 period=5)\n",
    "\n",
    "# Create a new model instance\n",
    "model = create_model()\n",
    "\n",
    "# Save the weights using the `checkpoint_path` format\n",
    "model.save_weights(ckpt_path_for_t2.format(epoch=0))\n",
    "\n",
    "# Train the model with the new callback\n",
    "model.fit(train_images, \n",
    "              train_labels,\n",
    "              epochs=50, \n",
    "              callbacks=[cp_callback],\n",
    "              validation_data=(test_images,test_labels),\n",
    "              verbose=0)"
   ]
  },
  {
   "cell_type": "markdown",
   "metadata": {},
   "source": [
    "Now, look at the resulting checkpoints and choose the latest one:"
   ]
  },
  {
   "cell_type": "code",
   "execution_count": 15,
   "metadata": {},
   "outputs": [
    {
     "name": "stdout",
     "output_type": "stream",
     "text": [
      "checkpoint\t\t\t  cp-0025.ckpt.index\n",
      "cp-0000.ckpt.data-00000-of-00001  cp-0030.ckpt.data-00000-of-00001\n",
      "cp-0000.ckpt.index\t\t  cp-0030.ckpt.index\n",
      "cp-0005.ckpt.data-00000-of-00001  cp-0035.ckpt.data-00000-of-00001\n",
      "cp-0005.ckpt.index\t\t  cp-0035.ckpt.index\n",
      "cp-0010.ckpt.data-00000-of-00001  cp-0040.ckpt.data-00000-of-00001\n",
      "cp-0010.ckpt.index\t\t  cp-0040.ckpt.index\n",
      "cp-0015.ckpt.data-00000-of-00001  cp-0045.ckpt.data-00000-of-00001\n",
      "cp-0015.ckpt.index\t\t  cp-0045.ckpt.index\n",
      "cp-0020.ckpt.data-00000-of-00001  cp-0050.ckpt.data-00000-of-00001\n",
      "cp-0020.ckpt.index\t\t  cp-0050.ckpt.index\n",
      "cp-0025.ckpt.data-00000-of-00001\n"
     ]
    }
   ],
   "source": [
    "! ls {ckpt_dir_for_t2}"
   ]
  },
  {
   "cell_type": "markdown",
   "metadata": {},
   "source": [
    "##### What are these files?\n",
    "The above code stores the weights to a collection of checkpoint-formatted files that contain only the trained weights in a binary format. Checkpoints contain: * One or more shards that contain your model's weights. * An index file that indicates which weights are stored in a which shard.\n",
    "\n",
    "If you are only training a model on a single machine, you'll have one shard with the suffix: `.data-00000-of-00001`"
   ]
  },
  {
   "cell_type": "code",
   "execution_count": 16,
   "metadata": {},
   "outputs": [
    {
     "data": {
      "text/plain": [
       "'checkpoints/training_2/cp-0050.ckpt'"
      ]
     },
     "execution_count": 16,
     "metadata": {},
     "output_type": "execute_result"
    }
   ],
   "source": [
    "latest = tf.train.latest_checkpoint(ckpt_dir_for_t2)\n",
    "latest"
   ]
  },
  {
   "cell_type": "markdown",
   "metadata": {},
   "source": [
    "To test, reset the model and load the latest checkpoint:"
   ]
  },
  {
   "cell_type": "code",
   "execution_count": 20,
   "metadata": {},
   "outputs": [
    {
     "name": "stdout",
     "output_type": "stream",
     "text": [
      "Restored model, accuracy: 88.30%\n"
     ]
    }
   ],
   "source": [
    "# Create a new model instance\n",
    "model = create_model()\n",
    "\n",
    "# Load the previously saved weights\n",
    "model.load_weights(latest)\n",
    "\n",
    "# Re-evaluate the model\n",
    "loss, acc = model.evaluate(test_images, test_labels,verbose=0)\n",
    "print(\"Restored model, accuracy: {:5.2f}%\".format(100*acc))"
   ]
  },
  {
   "cell_type": "markdown",
   "metadata": {},
   "source": [
    "### Manually save weights\n",
    "\n",
    "You saw how to load the weights into a model. Manually saving them is just as simple with the `Model.save_weights` method. By default, tf.keras—and `save_weights` in particular—uses the TensorFlow checkpoints format with a .ckpt extension"
   ]
  },
  {
   "cell_type": "code",
   "execution_count": 22,
   "metadata": {},
   "outputs": [
    {
     "name": "stdout",
     "output_type": "stream",
     "text": [
      "Restored model, accuracy: 88.30%\n"
     ]
    }
   ],
   "source": [
    "# Save the weights\n",
    "model.save_weights('./checkpoints/manual_checkpoint/cur_weights')\n",
    "\n",
    "# Create a new model instance\n",
    "model = create_model()\n",
    "\n",
    "# Restore the weights\n",
    "model.load_weights('./checkpoints/manual_checkpoint/cur_weights')\n",
    "\n",
    "# Evaluate the model\n",
    "loss,acc = model.evaluate(test_images, test_labels, verbose=0)\n",
    "print(\"Restored model, accuracy: {:5.2f}%\".format(100*acc))"
   ]
  },
  {
   "cell_type": "markdown",
   "metadata": {},
   "source": [
    "## Save the entire model \n",
    "\n",
    "The model and optimizer can be saved to a file that contains both their _state (weights and variables)_ and the _model configuration_. This allows you to export a model so it can be used without access to the original Python code. Since the optimizer-state is recovered, you can resume training from exactly where you left off.\n",
    "\n",
    "Saving a fully-functional model is very useful—you can load them in TensorFlow.js ([HDF5 in TensorFlow.js](https://www.tensorflow.org/js/tutorials/conversion/import_keras), [Saved Model in TensorFlow.js](https://www.tensorflow.org/js/tutorials/conversion/import_saved_model)) and then train and run them in web browsers, or convert them to run on mobile devices using TensorFlow Lite ([HDF5 in Python](https://www.tensorflow.org/lite/convert/python_api#exporting_a_tfkeras_file_), [Saved Model in Python](https://www.tensorflow.org/lite/convert/python_api#exporting_a_savedmodel_))"
   ]
  },
  {
   "cell_type": "markdown",
   "metadata": {},
   "source": [
    "### Save model as an HDF5 file\n",
    "\n",
    "Keras also provides a basic save format using the [HDF5](https://en.wikipedia.org/wiki/Hierarchical_Data_Format) standard. For our purposes, the saved model can be treated as a single binary blob:"
   ]
  },
  {
   "cell_type": "code",
   "execution_count": 24,
   "metadata": {},
   "outputs": [
    {
     "name": "stdout",
     "output_type": "stream",
     "text": [
      "Epoch 1/5\n",
      "32/32 [==============================] - 0s 1ms/step - loss: 1.1564 - accuracy: 0.6840\n",
      "Epoch 2/5\n",
      "32/32 [==============================] - 0s 1ms/step - loss: 0.4076 - accuracy: 0.8890\n",
      "Epoch 3/5\n",
      "32/32 [==============================] - 0s 1ms/step - loss: 0.2773 - accuracy: 0.9280\n",
      "Epoch 4/5\n",
      "32/32 [==============================] - 0s 1ms/step - loss: 0.1976 - accuracy: 0.9560\n",
      "Epoch 5/5\n",
      "32/32 [==============================] - 0s 1ms/step - loss: 0.1476 - accuracy: 0.9710\n"
     ]
    }
   ],
   "source": [
    "# Create and train a new model instance.\n",
    "model = create_model()\n",
    "model.fit(train_images, train_labels, epochs=5)\n",
    "\n",
    "# Save the entire model to a HDF5 file.\n",
    "# The '.h5' extension indicates that the model should be saved to HDF5.\n",
    "model.save('my_model.h5')"
   ]
  },
  {
   "cell_type": "markdown",
   "metadata": {},
   "source": [
    "Now, recreate the model from that file:"
   ]
  },
  {
   "cell_type": "code",
   "execution_count": 25,
   "metadata": {},
   "outputs": [
    {
     "name": "stdout",
     "output_type": "stream",
     "text": [
      "Model: \"sequential_8\"\n",
      "_________________________________________________________________\n",
      " Layer (type)                Output Shape              Param #   \n",
      "=================================================================\n",
      " dense_16 (Dense)            (None, 512)               401920    \n",
      "                                                                 \n",
      " dropout_8 (Dropout)         (None, 512)               0         \n",
      "                                                                 \n",
      " dense_17 (Dense)            (None, 10)                5130      \n",
      "                                                                 \n",
      "=================================================================\n",
      "Total params: 407,050\n",
      "Trainable params: 407,050\n",
      "Non-trainable params: 0\n",
      "_________________________________________________________________\n"
     ]
    }
   ],
   "source": [
    "# Recreate the exact same model, including its weights and the optimizer\n",
    "new_model = tf.keras.models.load_model('my_model.h5')\n",
    "\n",
    "# Show the model architecture\n",
    "new_model.summary()"
   ]
  },
  {
   "cell_type": "markdown",
   "metadata": {},
   "source": [
    "Check its accuracy:"
   ]
  },
  {
   "cell_type": "code",
   "execution_count": 26,
   "metadata": {},
   "outputs": [
    {
     "name": "stdout",
     "output_type": "stream",
     "text": [
      "32/32 - 0s - loss: 0.4247 - accuracy: 0.8690 - 92ms/epoch - 3ms/step\n",
      "Restored model, accuracy: 86.90%\n"
     ]
    }
   ],
   "source": [
    "loss, acc = new_model.evaluate(test_images, test_labels, verbose=2)\n",
    "print('Restored model, accuracy: {:5.2f}%'.format(100 * acc))"
   ]
  },
  {
   "cell_type": "markdown",
   "metadata": {},
   "source": [
    "This technique saves everything:\n",
    "\n",
    "- The weight values\n",
    "- The model's configuration(architecture)\n",
    "- The optimizer configuration\n",
    "\n",
    "Keras saves models by inspecting the architecture. Currently, it is not able to save TensorFlow optimizers (from tf.train). When using those you will need to re-compile the model after loading, and you will lose the state of the optimizer."
   ]
  }
 ],
 "metadata": {
  "kernelspec": {
   "display_name": "Python 3",
   "language": "python",
   "name": "python3"
  },
  "language_info": {
   "codemirror_mode": {
    "name": "ipython",
    "version": 3
   },
   "file_extension": ".py",
   "mimetype": "text/x-python",
   "name": "python",
   "nbconvert_exporter": "python",
   "pygments_lexer": "ipython3",
   "version": "3.7.0"
  }
 },
 "nbformat": 4,
 "nbformat_minor": 4
}
