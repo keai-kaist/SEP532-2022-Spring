{
 "cells": [
  {
   "cell_type": "markdown",
   "metadata": {},
   "source": [
    "# SEP532 - 인공지능 이론과 실제 (2022 Spring)\n",
    "## Deep Learning Practice \n",
    "#### Prof. Ho-Jin Choi\n",
    "#### School of Computing, KAIST\n",
    "\n",
    "---"
   ]
  },
  {
   "cell_type": "markdown",
   "metadata": {},
   "source": [
    "# Introduction to Nueral Networks\n",
    "\n",
    "### 1. Introduction to Google Colab  \n",
    "\n",
    "### 2. Neural Network Basic   \n",
    "\n",
    "### 3. Intorduction to Tensorflow\n",
    "\n",
    "### 4. Feedforward Neural Network\n",
    "\n",
    "### 5. Overfitting And How To Fight It  \n",
    "\n",
    "### 6. Save And Load Models\n",
    "\n",
    "### 7. Customization\n",
    "\n",
    "---"
   ]
  }
 ],
 "metadata": {
  "kernelspec": {
   "display_name": "Python 3",
   "language": "python",
   "name": "python3"
  },
  "language_info": {
   "codemirror_mode": {
    "name": "ipython",
    "version": 3
   },
   "file_extension": ".py",
   "mimetype": "text/x-python",
   "name": "python",
   "nbconvert_exporter": "python",
   "pygments_lexer": "ipython3",
   "version": "3.7.0"
  }
 },
 "nbformat": 4,
 "nbformat_minor": 4
}
