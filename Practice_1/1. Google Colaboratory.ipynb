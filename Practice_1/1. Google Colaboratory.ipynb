{
 "cells": [
  {
   "cell_type": "markdown",
   "metadata": {},
   "source": [
    "# SEP532 - 인공지능 이론과 실제 (2022 Spring)\n",
    "## Deep Learning Practice \n",
    "#### Prof. Ho-Jin Choi\n",
    "#### School of Computing, KAIST\n",
    "\n",
    "---"
   ]
  },
  {
   "cell_type": "markdown",
   "metadata": {},
   "source": [
    "# 2. Introduction to Google Colab\n",
    "\n",
    "\n",
    "## What is Colaboratory?\n",
    "\n",
    "- Colaboratory is a **free Jupyter notebook environment** that requires no setup and runs entirely in the cloud.\n",
    "- With Colaboratory you can write and execute code, save and share your analyses, and access powerful computing resources, all for free from your browser.\n",
    "- Colaboratory is run on a Ubuntu 18.04 virtual machine equipped with 13GB RAM, ~310GB Storage limits, and GPUs (K80, TPU).\n",
    "- You can use the computing services for a maximum of 12 hours at a time\n",
    "    - Basically, you are connected to a virtual machine that lives for a maximum of 12 hours at a time.\n",
    "    - All data including model parameters that aren’t saved to the Google Drive before this period will be lost\n",
    "    - After 12 hours, you will be assigned to a different virtual machine and this cycle repeats\n"
   ]
  },
  {
   "cell_type": "markdown",
   "metadata": {},
   "source": [
    "## Why we should use th Google Colab?\n",
    "\n",
    "### _**-> Deep learning requires a lot of hardware**_\n",
    "\n",
    "- To efficiently train a deep learning model, your hardware should be able to deal with a huge amount of data at high speed.\n",
    "- CPUs are fast but their bandwidth is lower than GPUs.\n",
    "    - GPUs can perform a large number of  matrix multiplications at a time.\n",
    "    - It allows you to build and train complex deep learning models on large dataset efficiently.\n",
    "    - However, high-performance GPUs are expensive.\n",
    "    \n",
    "    \n",
    "<img src=\"https://www.boxx.com/Files/Images/2017/dxgstationbenchmark.png\" width=\"800\" align=\"center\">\n",
    "\n",
    "<!-- <img src=\"./imgs/cpu_gpu_comp.png\" width=\"800\" align=\"center\"> -->\n",
    "\n"
   ]
  },
  {
   "cell_type": "markdown",
   "metadata": {},
   "source": [
    "## Getting Started \n",
    "\n",
    "### How to setup GPU\n",
    "- Go to https://colab.research.google.com\n",
    "- Create a new Python 3 notebook\n",
    "- Runtime > Change runtime type > Set Hardware accelerator to GPU > Save\n",
    "\n",
    "<img src=\"https://github.com/keai-kaist/SEP532/blob/master/Week1/imgs/new_colab.png?raw=true\" align=\"center\" width=\"400\"/> <img src=\"https://github.com/keai-kaist/SEP532/blob/master/Week1/imgs/change_runtime.png?raw=true\" align=\"center\" width=\"400\"/> <img src=\"https://github.com/keai-kaist/SEP532/blob/master/Week1/imgs/set_gpu.png?raw=true\" align=\"center\" width=\"400\"/>\n",
    "\n",
    "\n",
    "### Notebook\n",
    "- Notebook is a **list of cells** which contain either explanatory text or executable code and its output.\n",
    "- By clicking a cell, you can select the cell that you want to working with.\n",
    "- **Text cells** help you explain your notebook and code cells you wrote.\n",
    "- **Code cells** contain executable Python code and its output\n",
    "\n",
    "\n",
    "### Working with cells \n",
    "- You can add new code or text cells using the **+CODE** and **+TEXT** buttons.\n",
    "- By selecting a cell, you can move up, move down or delete the cell. \n",
    "- You can execute a selected code cell in the following ways:\n",
    "    - Click the **Play button** in the left of the cell\n",
    "    - Type **Ctrl+Enter** to run the cell in place\n",
    "    - Type **Shift+Enter** to run the cell and move focus to the next cell\n",
    "    - Type **Alt+Enter** to run the cell and insert a new code cell immediately below it\n",
    "- You can run any command on the system shell by prefixing it with `!`. (such as ls, pwd, etc.)\n",
    "- You can install third-party libraries using package managers as needed. (such as !pip install ---) \n",
    "- You can use tab completion to explore attributes of Python objects, as well as to quickly view documentation strings.\n",
    "    - As an example, if you press Tab after `numpy.ra`, you will see the list of available completions starting with ra within the numpy module.\n",
    "    - If you press Tab after an open parenthesis, you will see a pop-up of its documentation string.\n",
    "\n",
    "\n",
    "\n",
    "\n",
    "### Mount your google drive \n",
    "- Click the drive mount \n",
    "- Run the code cell \n",
    "- Go to the URL printed by the cell\n",
    "- Select the your google account \n",
    "- Allow access to the google account\n",
    "- Copy the given authorization code\n",
    "- Paste it into the blank\n",
    "\n",
    "If you succeed, then you'll see \"Mounted at {_path you set_}\"\n",
    "\n",
    "**Note : This step should be repeated everytime you initialize the runtime sesison**\n",
    "\n",
    "\n",
    "### Access to your google drive in Colab"
   ]
  },
  {
   "cell_type": "code",
   "execution_count": null,
   "metadata": {},
   "outputs": [],
   "source": [
    "from google.colab import drive\n",
    "import os\n",
    "\n",
    "drive.mount('/gdrive')\n",
    "\n",
    "gdrive_root = '/gdrive/My Drive'\n",
    "print('In gdrive :', os.listdir(gdrive_root))\n",
    "\n",
    "notebook_dir = os.path.join(gdrive_root, 'ColabNotebooks')\n",
    "print('In Colab Notebooks :', os.listdir(notebook_dir))"
   ]
  },
  {
   "cell_type": "code",
   "execution_count": null,
   "metadata": {},
   "outputs": [],
   "source": [
    "# load the saved image\n",
    "from PIL import Image\n",
    "\n",
    "# download and save an image\n",
    "!wget 'https://cs.kaist.ac.kr/common/images/header/logo_top.png' -O '/gdrive/My Drive/cs_kaist.png'\n",
    "print('In gdrive :', os.listdir(gdrive_root))\n",
    "\n",
    "image_path = os.path.join(gdrive_root, 'cs_kaist.png')\n",
    "img = Image.open(image_path)\n",
    "img"
   ]
  },
  {
   "cell_type": "code",
   "execution_count": null,
   "metadata": {},
   "outputs": [],
   "source": [
    "# make a new directory and save the image in that directory\n",
    "new_dir = os.path.join(gdrive_root, 'my_data')\n",
    "if not os.path.exists(new_dir):\n",
    "    os.makedirs(new_dir)\n",
    "  \n",
    "new_image_path = os.path.join(new_dir, 'cs_kaist.png')\n",
    "img.save(new_image_path)\n",
    "\n",
    "Image.open(new_image_path)"
   ]
  },
  {
   "cell_type": "markdown",
   "metadata": {},
   "source": [
    "### Load notebooks from GitHub\n",
    "\n",
    "You can fetch notebooks from GitHub repositories as follows. \n",
    "\n",
    "- File > Open notebook > GitHub \n",
    "- Enter the GitHub URL (In our case, 'keai-kaist/SEP532')\n",
    "- Select the notebook file you want to load "
   ]
  },
  {
   "cell_type": "markdown",
   "metadata": {},
   "source": [
    "### Colab Shortcuts\n",
    "\n",
    "- Ctrl + M + H : keyboard preferences manager\n",
    "- Ctrl + M + M : convert to text cell\n",
    "- Ctrl + M + Y : convert to code cell\n",
    "- Ctrl + M + A : Insert code cell above\n",
    "- Ctrl + M + B : Insert code cell below\n",
    "- Ctrl + M + D : Delete cell/selection\n",
    "- Shift + Enter : Run cell and select next cell\n",
    "- Alt + Enter : Run cell and insert new cell\n",
    "- Ctrl + M + I : Interrupt execution\n",
    "- Ctrl + M + . : Restart Runtime\n",
    "- Ctrl + / : comment/uncomment"
   ]
  },
  {
   "cell_type": "markdown",
   "metadata": {},
   "source": [
    "### Colab Machine Specification"
   ]
  },
  {
   "cell_type": "code",
   "execution_count": null,
   "metadata": {},
   "outputs": [],
   "source": [
    "# CPU\n",
    "!cat /proc/cpuinfo"
   ]
  },
  {
   "cell_type": "code",
   "execution_count": null,
   "metadata": {},
   "outputs": [],
   "source": [
    "# Memory\n",
    "!cat /proc/meminfo"
   ]
  },
  {
   "cell_type": "code",
   "execution_count": null,
   "metadata": {},
   "outputs": [],
   "source": [
    "# GPU\n",
    "# if you get a message like 'NVIDIA-SMI has failed ...'\n",
    "# then equip your VM with GPU as follows\n",
    "# click 'Runtime' -> click 'Change runtime type' -> select 'GPU' option for 'Hardware accelerator' -> save \n",
    "!nvidia-smi"
   ]
  }
 ],
 "metadata": {
  "kernelspec": {
   "display_name": "Python 3",
   "language": "python",
   "name": "python3"
  },
  "language_info": {
   "codemirror_mode": {
    "name": "ipython",
    "version": 3
   },
   "file_extension": ".py",
   "mimetype": "text/x-python",
   "name": "python",
   "nbconvert_exporter": "python",
   "pygments_lexer": "ipython3",
   "version": "3.7.0"
  }
 },
 "nbformat": 4,
 "nbformat_minor": 4
}
