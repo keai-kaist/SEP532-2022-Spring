{
 "cells": [
  {
   "cell_type": "markdown",
   "metadata": {},
   "source": [
    "# SEP532 인공지능 이론과 실제\n",
    "## Deep Learning Practice \n",
    "#### Prof. Ho-Jin Choi\n",
    "#### School of Computing, KAIST\n",
    "\n",
    "---"
   ]
  },
  {
   "cell_type": "markdown",
   "metadata": {},
   "source": [
    "## Kagggle: Real or Not? NLP with Disaster Tweets\n",
    "In this practice, we are going to build a machine learning model that predicts which Tweets are about real disasters and which one’s aren’t."
   ]
  },
  {
   "cell_type": "markdown",
   "metadata": {},
   "source": [
    "### [Kaggle - Real or Not? NLP with Disaster Tweets](https://www.kaggle.com/c/nlp-getting-started)\n",
    "\n",
    "> Twitter has become an important communication channel in times of emergency.\n",
    "> The ubiquitousness of smartphones enables people to announce an emergency they’re observing in real-time. \n",
    "> Because of this, more agencies are interested in programatically monitoring Twitter (i.e. disaster relief organizations and news agencies).\n",
    ">\n",
    "> But, it’s not always clear whether a person’s words are actually announcing a disaster. Take this example:\n",
    "> ![On plus side LOOK AT THE SKY LAST NIGHT IT WAS ABLAZE](images/example-tweet.png)\n",
    ">\n",
    "> The author explicitly uses the word “ABLAZE” but means it metaphorically. This is clear to a human right away, especially with the visual aid.\n",
    "> But it’s less clear to a machine."
   ]
  },
  {
   "cell_type": "code",
   "execution_count": null,
   "metadata": {},
   "outputs": [],
   "source": [
    "import numpy as np\n",
    "import pandas as pd\n",
    "import tensorflow as tf"
   ]
  },
  {
   "cell_type": "markdown",
   "metadata": {},
   "source": [
    "### Load and preprocess dataset"
   ]
  },
  {
   "cell_type": "markdown",
   "metadata": {},
   "source": [
    "In this notebook, we are going to use `Pandas` to load and process the dataset. Let's load the dataset given in `.csv` format using `pandas.read_csv()`.\n",
    "\n",
    "The given dataset consists of 5 columns:\n",
    "- `id`\n",
    "- `keyword`\n",
    "- `location`\n",
    "- `text`\n",
    "- `target`\n",
    "\n",
    "Among these columns, we are going to use only `text` and `target` columns."
   ]
  },
  {
   "cell_type": "code",
   "execution_count": null,
   "metadata": {},
   "outputs": [],
   "source": [
    "df = pd.\n",
    "df.head(10)"
   ]
  },
  {
   "cell_type": "markdown",
   "metadata": {},
   "source": [
    "Let's define `clean_text()` function to clean texts in the dataset. For example, this function\n",
    "- Converts all uppercase characters in a text into lowercase characters\n",
    "- Remove accents\n",
    "- Removes URLs in a text\n",
    "- Removes all punctuations in a text\n",
    "- Removes all characters other than alphabet, digit and whitespace\n",
    "- Merges consecutive whitespaces into one whitespace"
   ]
  },
  {
   "cell_type": "code",
   "execution_count": null,
   "metadata": {},
   "outputs": [],
   "source": [
    "import re\n",
    "import string\n",
    "import unicodedata \n",
    "\n",
    "def clean_text(text):\n",
    "    pass"
   ]
  },
  {
   "cell_type": "markdown",
   "metadata": {},
   "source": [
    "Then, apply `clean_text()` to `df['text']`."
   ]
  },
  {
   "cell_type": "code",
   "execution_count": null,
   "metadata": {},
   "outputs": [],
   "source": [
    "df['text'] = \n",
    "df.head(10)"
   ]
  },
  {
   "cell_type": "markdown",
   "metadata": {},
   "source": [
    "Let's define `train_test_split()` which splits a given `DataFrame` into train and test subsets."
   ]
  },
  {
   "cell_type": "code",
   "execution_count": null,
   "metadata": {},
   "outputs": [],
   "source": [
    "def train_test_split(df, ratio=0.8):\n",
    "    pass"
   ]
  },
  {
   "cell_type": "markdown",
   "metadata": {},
   "source": [
    "Then, we can split the dataset into train, validation, and test `DataFrame`s"
   ]
  },
  {
   "cell_type": "code",
   "execution_count": null,
   "metadata": {},
   "outputs": [],
   "source": [
    "df_train_validtion, df_test = \n",
    "df_train, df_validation = "
   ]
  },
  {
   "cell_type": "markdown",
   "metadata": {},
   "source": [
    "Define `prepare_tensors()` to convert the `DataFrame` into `X` and `y` tensors. Use `tf.keras.preprocessing.text.Tokenizer` to tokenize texts into sequences of words and convert them into numerical tensors."
   ]
  },
  {
   "cell_type": "code",
   "execution_count": null,
   "metadata": {},
   "outputs": [],
   "source": [
    "tokenizer = \n",
    "tokenizer.\n",
    "\n",
    "def prepare_tensors(df):\n",
    "    pass"
   ]
  },
  {
   "cell_type": "code",
   "execution_count": null,
   "metadata": {},
   "outputs": [],
   "source": [
    "X_train, y_train = \n",
    "X_validation, y_validation = \n",
    "X_test, y_test = "
   ]
  },
  {
   "cell_type": "markdown",
   "metadata": {},
   "source": [
    "#### Build the model\n",
    "\n",
    "Build the model using `tf.keras.Sequuential` and other `tf.keras.layers.*` layers."
   ]
  },
  {
   "cell_type": "code",
   "execution_count": null,
   "metadata": {},
   "outputs": [],
   "source": [
    "model = "
   ]
  },
  {
   "cell_type": "markdown",
   "metadata": {},
   "source": [
    "#### Compile the model\n",
    "Compile the model using `binary_crossentropy` loss and optimizers as choice. Also, we can monitor the performance of the network using `accuracy` as metrics."
   ]
  },
  {
   "cell_type": "code",
   "execution_count": null,
   "metadata": {},
   "outputs": [],
   "source": [
    "model."
   ]
  },
  {
   "cell_type": "markdown",
   "metadata": {},
   "source": [
    "#### Train the model\n",
    "Train the model using `tf.keras.Model.fit()`. Use `tf.keras.callbacks.EarlyStopping` to stop the training when the validation loss increases."
   ]
  },
  {
   "cell_type": "code",
   "execution_count": null,
   "metadata": {},
   "outputs": [],
   "source": [
    "model."
   ]
  },
  {
   "cell_type": "markdown",
   "metadata": {},
   "source": [
    "#### Evaluate the model"
   ]
  },
  {
   "cell_type": "code",
   "execution_count": null,
   "metadata": {},
   "outputs": [],
   "source": [
    "loss, accuracy = \n",
    "print(f'Loss: {loss:.4f}, Accuracy: {accuracy:.4f}')"
   ]
  },
  {
   "cell_type": "code",
   "execution_count": null,
   "metadata": {},
   "outputs": [],
   "source": [
    "sample_indexes = np.random.permutation(df_test.shape[0])\n",
    "for sample_index in sample_indexes[:10]:\n",
    "    prediction = model(np.expand_dims(X_test[sample_index], axis=0))[0]\n",
    "    \n",
    "    print('Input:', df_test.iloc[sample_index]['text'])\n",
    "    print('Preprocessed:', ' '.join(tokenizer.index_word[index] for index in np.trim_zeros(X_test[sample_index])))\n",
    "    print('Actual:', '🌋Disaster' if y_test[sample_index] == 1 else '🌍Non-disaster')\n",
    "    print('Predicted:', '🌋Disaster' if prediction[0] >= 0.5 else '🌍Non-disaster')\n",
    "    print()"
   ]
  }
 ],
 "metadata": {
  "kernelspec": {
   "display_name": "Python 3 (ipykernel)",
   "language": "python",
   "name": "python3"
  },
  "language_info": {
   "codemirror_mode": {
    "name": "ipython",
    "version": 3
   },
   "file_extension": ".py",
   "mimetype": "text/x-python",
   "name": "python",
   "nbconvert_exporter": "python",
   "pygments_lexer": "ipython3",
   "version": "3.9.12"
  }
 },
 "nbformat": 4,
 "nbformat_minor": 4
}
