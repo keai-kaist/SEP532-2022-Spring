{
 "cells": [
  {
   "cell_type": "code",
   "execution_count": 1,
   "metadata": {},
   "outputs": [],
   "source": [
    "import os\n",
    "os.environ['CUDA_VISIBLE_DEVICES'] = '0'"
   ]
  },
  {
   "cell_type": "markdown",
   "metadata": {},
   "source": [
    "# SEP532 인공지능 이론과 실제\n",
    "## Deep Learning Practice \n",
    "#### Prof. Ho-Jin Choi\n",
    "#### School of Computing, KAIST\n",
    "\n",
    "---"
   ]
  },
  {
   "cell_type": "markdown",
   "metadata": {},
   "source": [
    "### Text classification with an RNN\n",
    "\n",
    "Let's build text classification model with RNN on the IMDB dataset for sentiment analysis."
   ]
  },
  {
   "cell_type": "code",
   "execution_count": 2,
   "metadata": {},
   "outputs": [],
   "source": [
    "import numpy as np\n",
    "\n",
    "import tensorflow_datasets as tfds\n",
    "import tensorflow as tf"
   ]
  },
  {
   "cell_type": "markdown",
   "metadata": {},
   "source": [
    "#### Setup input pipeline\n",
    "\n",
    "The IMDB large movie review dataset is a binary classification dataset—all the reviews have either a positive or negative sentiment.\n",
    "\n",
    "Download the dataset using [`TFDS`](https://www.tensorflow.org/datasets).\n",
    "- Args of [`tfds.load`](https://www.tensorflow.org/datasets/api_docs/python/tfds/load):\n",
    "    - `name`: str, the registered name of the DatasetBuilder.\n",
    "    - `with_info`: bool, if True, tfds.load will return the tuple (tf.data.Dataset, tfds.core.DatasetInfo) containing the info associated with the builder.\n",
    "    - `as_supervised`: bool, if True, the returned tf.data.Dataset will have a 2-tuple structure (input, label) according to builder.info.supervised_keys. If False, the default, the returned tf.data.Dataset will have a dictionary with all the features."
   ]
  },
  {
   "cell_type": "code",
   "execution_count": 3,
   "metadata": {},
   "outputs": [
    {
     "name": "stderr",
     "output_type": "stream",
     "text": [
      "2022-05-08 23:32:42.814728: I tensorflow/core/platform/cpu_feature_guard.cc:151] This TensorFlow binary is optimized with oneAPI Deep Neural Network Library (oneDNN) to use the following CPU instructions in performance-critical operations:  AVX2 AVX512F FMA\n",
      "To enable them in other operations, rebuild TensorFlow with the appropriate compiler flags.\n",
      "2022-05-08 23:32:43.505597: I tensorflow/core/common_runtime/gpu/gpu_device.cc:1525] Created device /job:localhost/replica:0/task:0/device:GPU:0 with 34845 MB memory:  -> device: 0, name: NVIDIA A100-PCIE-40GB, pci bus id: 0000:18:00.0, compute capability: 8.0\n"
     ]
    },
    {
     "data": {
      "text/plain": [
       "(TensorSpec(shape=(), dtype=tf.string, name=None),\n",
       " TensorSpec(shape=(), dtype=tf.int64, name=None))"
      ]
     },
     "execution_count": 3,
     "metadata": {},
     "output_type": "execute_result"
    }
   ],
   "source": [
    "dataset, info = tfds.load('imdb_reviews', with_info=True, as_supervised=True)\n",
    "train_dataset, test_dataset = dataset['train'], dataset['test']\n",
    "\n",
    "train_dataset.element_spec"
   ]
  },
  {
   "cell_type": "markdown",
   "metadata": {},
   "source": [
    "Initially this returns a dataset of (text, label pairs):"
   ]
  },
  {
   "cell_type": "code",
   "execution_count": 4,
   "metadata": {},
   "outputs": [
    {
     "name": "stdout",
     "output_type": "stream",
     "text": [
      "text:  b\"This was an absolutely terrible movie. Don't be lured in by Christopher Walken or Michael Ironside. Both are great actors, but this must simply be their worst role in history. Even their great acting could not redeem this movie's ridiculous storyline. This movie is an early nineties US propaganda piece. The most pathetic scenes were those when the Columbian rebels were making their cases for revolutions. Maria Conchita Alonso appeared phony, and her pseudo-love affair with Walken was nothing but a pathetic emotional plug in a movie that was devoid of any real meaning. I am disappointed that there are movies like this, ruining actor's like Christopher Walken's good name. I could barely sit through it.\"\n",
      "label:  0\n"
     ]
    },
    {
     "name": "stderr",
     "output_type": "stream",
     "text": [
      "2022-05-08 23:32:44.194744: W tensorflow/core/kernels/data/cache_dataset_ops.cc:768] The calling iterator did not fully read the dataset being cached. In order to avoid unexpected truncation of the dataset, the partially cached contents of the dataset  will be discarded. This can happen if you have an input pipeline similar to `dataset.cache().take(k).repeat()`. You should use `dataset.take(k).cache().repeat()` instead.\n"
     ]
    }
   ],
   "source": [
    "for example, label in train_dataset.take(1):\n",
    "    print('text: ', example.numpy())\n",
    "    print('label: ', label.numpy())"
   ]
  },
  {
   "cell_type": "markdown",
   "metadata": {},
   "source": [
    "Next shuffle the data for training and create batches of these (text, label) pairs:"
   ]
  },
  {
   "cell_type": "code",
   "execution_count": 5,
   "metadata": {},
   "outputs": [],
   "source": [
    "BUFFER_SIZE = 10000\n",
    "BATCH_SIZE = 64\n",
    "\n",
    "train_dataset = train_dataset.shuffle(BUFFER_SIZE).batch(BATCH_SIZE).prefetch(tf.data.AUTOTUNE)\n",
    "test_dataset = test_dataset.batch(BATCH_SIZE).prefetch(tf.data.AUTOTUNE)"
   ]
  },
  {
   "cell_type": "code",
   "execution_count": 6,
   "metadata": {},
   "outputs": [
    {
     "name": "stdout",
     "output_type": "stream",
     "text": [
      "texts:  [b'Wow, this film was just bloody horrid. SO bad in fact that even though I didn\\'t pay to see it, I still wanted my money back.<br /><br />The film is about nothing intelligible. It\\'s a mish-mash of sci-fi cliche\\'s that were done better by much more skilled film makers. The performances, especially by the leads were over the top in a less endearing Ed Wood sort of way. Speaking of Ed Wood, he\\'d be proud of the character\\'s dialogue. It\\'s just too taciturn with no hint of irony or sense of humor. On top of that, it doesn\\'t make sense, nor does the plot, or lackthereof.<br /><br />The visual effects are okay, but not enough to go \"oh wow, that\\'s cool\" and they just seem to be thrown in to \"be cool\" rather than be a good plot device.<br /><br />The soundtrack was another mishmash of stuff that really never set any sort of mood. Again, it seemed as if the director was just throwing in songs in the film in an effort to \"be cool\".<br /><br />Which brings me to my final point. Perhaps if the director actually worried more about plot, story and dialogue instead of trying to \"be cool\", he wouldn\\'t have made such a dorky cliche\\' of a short film.<br /><br />'\n",
      " b\"This is a sublime piece of film-making. It flows at just the right pace throughout. The accompanying music fits perfectly and is very pleasant to the ear. The humorous parts are hilarious and made even more so by the largely depressingly tragic nature of the film.<br /><br />However, despite much comment about the inherent tragedy of the storyline it was anything but depressing for me to watch. I thoroughly enjoyed it in a way that I haven't experienced for a long time. That is to say, it is superb and yet without all the common trappings of modern films such as; sex, violence and unnecessary special effects. <br /><br />'Dan In Real Life' lacks nothing for being without the regular vices. It has a fully matured plot that just doesn't require, and indeed would be ruined by, any further embellishment. At the same time, the theme is entirely adult. It's a piece of art in and of itself that encapsulates you entirely and you want for nothing more than it already offers.<br /><br />There are some scenes that feel a bit 'Waltons' but these actually make perfect sense in the long run as they contrast the more dysfunctional moments. The rosier makes way for the tragic which then gives over to the idyllic which turns to the darker etc. This undulating landscape of emotional cinematography creates a perfect balance and keeps the viewer in a state of lithium-like stability. The peaks and troughs are gentle but more than adequate in the pleasure they instill.<br /><br />I highly recommend watching this film regardless of what genre you normally enjoy. Put aside any prejudices because this is a must see!\"\n",
      " b'These days Spielberg\\'s \"The Color Purple\" is mostly remembered for being nominated for eleven Oscars and winning zilch. What\\'s even more alarming is that Spielberg himself wasn\\'t even nominated for Best Director. Needless to say, the film-makers deserved more acclaim than they were accorded.<br /><br />The story concerns the trials and tribulations of Celie Johnson (Whoopi Goldberg), an African-American woman dominated at first by her incestuous father and then by her abusive husband. The film spans several years and focuses mainly on Celie\\'s relationships with the women around her. It\\'s told from a decidedly female perspective but you needn\\'t fear that it\\'s a saccharine \\'chick flick\\'.<br /><br />The story is an interesting one, livened with humour at times although the central character\\'s struggles are paramount. Some may not appreciate the change in tone towards the film\\'s end but I didn\\'t mind even though similar content in a lesser film would likely have me rolling my eyes.<br /><br />The film received three Oscar nominations for acting: Whoopi Goldberg (Best Actress), Oprah Winfrey (Best Supporting Actress) and Margaret Avery (Best Supporting Actress). I think that Goldberg and Winfrey were certainly deserving and Danny Glover was unaccountably stiffed.<br /><br />As already mentioned, Spielberg didn\\'t receive a Best Director nomination for his efforts. Such an omission beggars belief, since Spielberg\\'s direction here is top-notch. I\\'m not especially crazy about Quincy Jones\\'s score but it\\'s not below average by any means.<br /><br />In the end, the story is a satisfying one, well-told by a master film-maker working from Pulitzer Prize-winning material. Give it a try and you\\'ll probably be as baffled as I am about how it could be so poorly treated on Oscar night.']\n",
      "\n",
      "labels:  [0 1 1]\n"
     ]
    },
    {
     "name": "stderr",
     "output_type": "stream",
     "text": [
      "2022-05-08 23:32:44.500926: W tensorflow/core/kernels/data/cache_dataset_ops.cc:768] The calling iterator did not fully read the dataset being cached. In order to avoid unexpected truncation of the dataset, the partially cached contents of the dataset  will be discarded. This can happen if you have an input pipeline similar to `dataset.cache().take(k).repeat()`. You should use `dataset.take(k).cache().repeat()` instead.\n"
     ]
    }
   ],
   "source": [
    "for example, label in train_dataset.take(1):\n",
    "    print('texts: ', example.numpy()[:3])\n",
    "    print()\n",
    "    print('labels: ', label.numpy()[:3])"
   ]
  },
  {
   "cell_type": "markdown",
   "metadata": {},
   "source": [
    "#### Create the text encoder\n",
    "The raw text loaded by [`tfds`](https://www.tensorflow.org/datasets/api_docs/python/tfds) needs to be processed before it can be used in a model. The simplest way to process text for training is using the [`TextVectorization`](https://www.tensorflow.org/api_docs/python/tf/keras/layers/TextVectorization) layer. This layer has many capabilities, but this practice sticks to the default behavior.\n",
    "\n",
    "Create the layer, and pass the dataset's text to the layer's `.adapt()` method:"
   ]
  },
  {
   "cell_type": "code",
   "execution_count": 7,
   "metadata": {},
   "outputs": [],
   "source": [
    "VOCAB_SIZE = 1000\n",
    "encoder = tf.keras.layers.experimental.preprocessing.TextVectorization(max_tokens=VOCAB_SIZE)\n",
    "encoder.adapt(train_dataset.map(lambda text, label: text))"
   ]
  },
  {
   "cell_type": "markdown",
   "metadata": {},
   "source": [
    "The `.adapt()` method sets the layer's vocabulary. Here are the first 20 tokens. After the padding and unknown tokens they're sorted by frequency:"
   ]
  },
  {
   "cell_type": "code",
   "execution_count": 8,
   "metadata": {},
   "outputs": [
    {
     "data": {
      "text/plain": [
       "array(['', '[UNK]', 'the', 'and', 'a', 'of', 'to', 'is', 'in', 'it', 'i',\n",
       "       'this', 'that', 'br', 'was', 'as', 'for', 'with', 'movie', 'but'],\n",
       "      dtype='<U14')"
      ]
     },
     "execution_count": 8,
     "metadata": {},
     "output_type": "execute_result"
    }
   ],
   "source": [
    "vocab = np.array(encoder.get_vocabulary())\n",
    "vocab[:20]"
   ]
  },
  {
   "cell_type": "markdown",
   "metadata": {},
   "source": [
    "Once the vocabulary is set, the layer can encode text into indices. The tensors of indices are 0-padded to the longest sequence in the batch (unless you set a fixed `output_sequence_length`):"
   ]
  },
  {
   "cell_type": "code",
   "execution_count": 9,
   "metadata": {},
   "outputs": [
    {
     "data": {
      "text/plain": [
       "array([[  1,  11,  20, ...,   0,   0,   0],\n",
       "       [ 11,   7,   4, ...,   0,   0,   0],\n",
       "       [128, 497,   1, ...,   0,   0,   0]])"
      ]
     },
     "execution_count": 9,
     "metadata": {},
     "output_type": "execute_result"
    }
   ],
   "source": [
    "encoded_example = encoder(example)[:3].numpy()\n",
    "encoded_example"
   ]
  },
  {
   "cell_type": "markdown",
   "metadata": {},
   "source": [
    "With the default settings, the process is not completely reversible. There are three main reasons for that:\n",
    "1. The default value for `preprocessing.TextVectorization`'s `standardize` argument is \"`lower_and_strip_punctuation`\".\n",
    "2. The limited vocabulary size and lack of character-based fallback results in some unknown tokens."
   ]
  },
  {
   "cell_type": "code",
   "execution_count": 10,
   "metadata": {},
   "outputs": [
    {
     "name": "stdout",
     "output_type": "stream",
     "text": [
      "Original:  b'Wow, this film was just bloody horrid. SO bad in fact that even though I didn\\'t pay to see it, I still wanted my money back.<br /><br />The film is about nothing intelligible. It\\'s a mish-mash of sci-fi cliche\\'s that were done better by much more skilled film makers. The performances, especially by the leads were over the top in a less endearing Ed Wood sort of way. Speaking of Ed Wood, he\\'d be proud of the character\\'s dialogue. It\\'s just too taciturn with no hint of irony or sense of humor. On top of that, it doesn\\'t make sense, nor does the plot, or lackthereof.<br /><br />The visual effects are okay, but not enough to go \"oh wow, that\\'s cool\" and they just seem to be thrown in to \"be cool\" rather than be a good plot device.<br /><br />The soundtrack was another mishmash of stuff that really never set any sort of mood. Again, it seemed as if the director was just throwing in songs in the film in an effort to \"be cool\".<br /><br />Which brings me to my final point. Perhaps if the director actually worried more about plot, story and dialogue instead of trying to \"be cool\", he wouldn\\'t have made such a dorky cliche\\' of a short film.<br /><br />'\n",
      "Round-trip:  [UNK] this film was just [UNK] [UNK] so bad in fact that even though i didnt pay to see it i still wanted my money [UNK] br the film is about nothing [UNK] its a [UNK] of scifi [UNK] that were done better by much more [UNK] film [UNK] the performances especially by the leads were over the top in a less [UNK] [UNK] [UNK] sort of way [UNK] of [UNK] [UNK] [UNK] be [UNK] of the characters dialogue its just too [UNK] with no [UNK] of [UNK] or sense of humor on top of that it doesnt make sense nor does the plot or [UNK] br the [UNK] effects are okay but not enough to go oh [UNK] thats cool and they just seem to be [UNK] in to be cool rather than be a good plot [UNK] br the soundtrack was another [UNK] of stuff that really never set any sort of [UNK] again it seemed as if the director was just [UNK] in songs in the film in an effort to be [UNK] br which brings me to my final point perhaps if the director actually [UNK] more about plot story and dialogue instead of trying to be cool he wouldnt have made such a [UNK] [UNK] of a short filmbr br                                                                                                                                                                                                                                                                                                                                                                                                                                                                                        \n",
      "\n",
      "Original:  b\"This is a sublime piece of film-making. It flows at just the right pace throughout. The accompanying music fits perfectly and is very pleasant to the ear. The humorous parts are hilarious and made even more so by the largely depressingly tragic nature of the film.<br /><br />However, despite much comment about the inherent tragedy of the storyline it was anything but depressing for me to watch. I thoroughly enjoyed it in a way that I haven't experienced for a long time. That is to say, it is superb and yet without all the common trappings of modern films such as; sex, violence and unnecessary special effects. <br /><br />'Dan In Real Life' lacks nothing for being without the regular vices. It has a fully matured plot that just doesn't require, and indeed would be ruined by, any further embellishment. At the same time, the theme is entirely adult. It's a piece of art in and of itself that encapsulates you entirely and you want for nothing more than it already offers.<br /><br />There are some scenes that feel a bit 'Waltons' but these actually make perfect sense in the long run as they contrast the more dysfunctional moments. The rosier makes way for the tragic which then gives over to the idyllic which turns to the darker etc. This undulating landscape of emotional cinematography creates a perfect balance and keeps the viewer in a state of lithium-like stability. The peaks and troughs are gentle but more than adequate in the pleasure they instill.<br /><br />I highly recommend watching this film regardless of what genre you normally enjoy. Put aside any prejudices because this is a must see!\"\n",
      "Round-trip:  this is a [UNK] piece of [UNK] it [UNK] at just the right [UNK] throughout the [UNK] music [UNK] perfectly and is very [UNK] to the [UNK] the [UNK] parts are hilarious and made even more so by the [UNK] [UNK] [UNK] nature of the filmbr br however despite much comment about the [UNK] [UNK] of the storyline it was anything but [UNK] for me to watch i [UNK] enjoyed it in a way that i havent [UNK] for a long time that is to say it is superb and yet without all the [UNK] [UNK] of modern films such as sex violence and [UNK] special effects br br [UNK] in real life [UNK] nothing for being without the [UNK] [UNK] it has a [UNK] [UNK] plot that just doesnt [UNK] and indeed would be [UNK] by any [UNK] [UNK] at the same time the theme is [UNK] [UNK] its a piece of art in and of itself that [UNK] you [UNK] and you want for nothing more than it already [UNK] br there are some scenes that feel a bit [UNK] but these actually make perfect sense in the long run as they [UNK] the more [UNK] moments the [UNK] makes way for the [UNK] which then gives over to the [UNK] which turns to the [UNK] etc this [UNK] [UNK] of emotional cinematography [UNK] a perfect [UNK] and keeps the viewer in a [UNK] of [UNK] [UNK] the [UNK] and [UNK] are [UNK] but more than [UNK] in the [UNK] they [UNK] br i highly recommend watching this film [UNK] of what genre you [UNK] enjoy put [UNK] any [UNK] because this is a must see                                                                                                                                                                                                                                                                                                                                                                                                                         \n",
      "\n",
      "Original:  b'These days Spielberg\\'s \"The Color Purple\" is mostly remembered for being nominated for eleven Oscars and winning zilch. What\\'s even more alarming is that Spielberg himself wasn\\'t even nominated for Best Director. Needless to say, the film-makers deserved more acclaim than they were accorded.<br /><br />The story concerns the trials and tribulations of Celie Johnson (Whoopi Goldberg), an African-American woman dominated at first by her incestuous father and then by her abusive husband. The film spans several years and focuses mainly on Celie\\'s relationships with the women around her. It\\'s told from a decidedly female perspective but you needn\\'t fear that it\\'s a saccharine \\'chick flick\\'.<br /><br />The story is an interesting one, livened with humour at times although the central character\\'s struggles are paramount. Some may not appreciate the change in tone towards the film\\'s end but I didn\\'t mind even though similar content in a lesser film would likely have me rolling my eyes.<br /><br />The film received three Oscar nominations for acting: Whoopi Goldberg (Best Actress), Oprah Winfrey (Best Supporting Actress) and Margaret Avery (Best Supporting Actress). I think that Goldberg and Winfrey were certainly deserving and Danny Glover was unaccountably stiffed.<br /><br />As already mentioned, Spielberg didn\\'t receive a Best Director nomination for his efforts. Such an omission beggars belief, since Spielberg\\'s direction here is top-notch. I\\'m not especially crazy about Quincy Jones\\'s score but it\\'s not below average by any means.<br /><br />In the end, the story is a satisfying one, well-told by a master film-maker working from Pulitzer Prize-winning material. Give it a try and you\\'ll probably be as baffled as I am about how it could be so poorly treated on Oscar night.'\n",
      "Round-trip:  these days [UNK] the [UNK] [UNK] is mostly [UNK] for being [UNK] for [UNK] [UNK] and [UNK] [UNK] whats even more [UNK] is that [UNK] himself wasnt even [UNK] for best director [UNK] to say the filmmakers [UNK] more [UNK] than they were [UNK] br the story [UNK] the [UNK] and [UNK] of [UNK] [UNK] [UNK] [UNK] an [UNK] woman [UNK] at first by her [UNK] father and then by her [UNK] husband the film [UNK] several years and [UNK] [UNK] on [UNK] [UNK] with the women around her its told from a [UNK] female [UNK] but you [UNK] [UNK] that its a [UNK] [UNK] [UNK] br the story is an interesting one [UNK] with [UNK] at times although the [UNK] characters [UNK] are [UNK] some may not [UNK] the change in [UNK] towards the films end but i didnt mind even though similar [UNK] in a [UNK] film would [UNK] have me [UNK] my [UNK] br the film [UNK] three oscar [UNK] for acting [UNK] [UNK] best actress [UNK] [UNK] best supporting actress and [UNK] [UNK] best supporting actress i think that [UNK] and [UNK] were certainly [UNK] and [UNK] [UNK] was [UNK] [UNK] br as already [UNK] [UNK] didnt [UNK] a best director [UNK] for his [UNK] such an [UNK] [UNK] [UNK] since [UNK] direction here is [UNK] im not especially crazy about [UNK] [UNK] score but its not [UNK] average by any [UNK] br in the end the story is a [UNK] one [UNK] by a [UNK] [UNK] working from [UNK] [UNK] material give it a try and youll probably be as [UNK] as i am about how it could be so poorly [UNK] on oscar night                                                                                                                                                                                                                                                                                                                                                                                                                       \n",
      "\n"
     ]
    }
   ],
   "source": [
    "for n in range(3):\n",
    "    print(\"Original: \", example[n].numpy())\n",
    "    print(\"Round-trip: \", \" \".join(vocab[encoded_example[n]]))\n",
    "    print()"
   ]
  },
  {
   "cell_type": "markdown",
   "metadata": {},
   "source": [
    "#### Create the model\n",
    "![A drawing of the information flow in the model](images/bidirectional.png)\n",
    "\n",
    "Above is a diagram of the model. \n",
    "\n",
    "1. This model can be build as a `tf.keras.Sequential`.\n",
    "2. The first layer is the `encoder`, which converts the text to a sequence of token indices.\n",
    "3. After the encoder is an embedding layer. An embedding layer stores one vector per word. When called, it converts the sequences of word indices to sequences of vectors. These vectors are trainable. After training (on enough data), words with similar meanings often have similar vectors. This index-lookup is much more efficient than the equivalent operation of passing a one-hot encoded vector through a `tf.keras.layers.Dense` layer.\n",
    "4. A recurrent neural network (RNN) processes sequence input by iterating through the elements. RNNs pass the outputs from one timestep to their input on the next timestep. The `tf.keras.layers.Bidirectional` wrapper can also be used with an RNN layer. This propagates the input forward and backwards through the RNN layer and then concatenates the final output. \n",
    "    - The main advantage of a bidirectional RNN is that the signal from the beginning of the input doesn't need to be processed all the way through every timestep to affect the output.  \n",
    "    - The main disadvantage of a bidirectional RNN is that you can't efficiently stream predictions as words are being added to the end.\n",
    "5. After the RNN has converted the sequence to a single vector the two `layers.Dense` do some final processing, and convert from this vector representation to a single logit as the classification output. "
   ]
  },
  {
   "cell_type": "markdown",
   "metadata": {},
   "source": [
    "The code to implement this is below:"
   ]
  },
  {
   "cell_type": "code",
   "execution_count": 11,
   "metadata": {},
   "outputs": [],
   "source": [
    "model = tf.keras.Sequential([\n",
    "    encoder,\n",
    "    tf.keras.layers.Embedding(\n",
    "        input_dim=len(encoder.get_vocabulary()),\n",
    "        output_dim=64,\n",
    "        # Use masking to handle the variable sequence lengths\n",
    "        mask_zero=True),\n",
    "    tf.keras.layers.Bidirectional(tf.keras.layers.LSTM(64)),\n",
    "    tf.keras.layers.Dense(64, activation='relu'),\n",
    "    tf.keras.layers.Dense(1)\n",
    "])"
   ]
  },
  {
   "cell_type": "markdown",
   "metadata": {},
   "source": [
    "Compile the Keras model to configure the training process:"
   ]
  },
  {
   "cell_type": "code",
   "execution_count": 12,
   "metadata": {},
   "outputs": [],
   "source": [
    "model.compile(loss=tf.keras.losses.BinaryCrossentropy(from_logits=True),\n",
    "              optimizer=tf.keras.optimizers.Adam(1e-4),\n",
    "              metrics=['accuracy'])"
   ]
  },
  {
   "cell_type": "markdown",
   "metadata": {},
   "source": [
    "#### Train the model"
   ]
  },
  {
   "cell_type": "code",
   "execution_count": 13,
   "metadata": {},
   "outputs": [
    {
     "name": "stdout",
     "output_type": "stream",
     "text": [
      "Epoch 1/10\n"
     ]
    },
    {
     "name": "stderr",
     "output_type": "stream",
     "text": [
      "2022-05-08 23:33:14.424680: I tensorflow/stream_executor/cuda/cuda_dnn.cc:368] Loaded cuDNN version 8101\n",
      "2022-05-08 23:33:15.154711: I tensorflow/stream_executor/cuda/cuda_blas.cc:1786] TensorFloat-32 will be used for the matrix multiplication. This will only be logged once.\n"
     ]
    },
    {
     "name": "stdout",
     "output_type": "stream",
     "text": [
      "391/391 [==============================] - 51s 112ms/step - loss: 0.6291 - accuracy: 0.5804 - val_loss: 0.4686 - val_accuracy: 0.7526\n",
      "Epoch 2/10\n"
     ]
    },
    {
     "name": "stderr",
     "output_type": "stream",
     "text": [
      "2022-05-08 23:33:59.110892: W tensorflow/core/kernels/data/cache_dataset_ops.cc:768] The calling iterator did not fully read the dataset being cached. In order to avoid unexpected truncation of the dataset, the partially cached contents of the dataset  will be discarded. This can happen if you have an input pipeline similar to `dataset.cache().take(k).repeat()`. You should use `dataset.take(k).cache().repeat()` instead.\n"
     ]
    },
    {
     "name": "stdout",
     "output_type": "stream",
     "text": [
      "391/391 [==============================] - 42s 107ms/step - loss: 0.4192 - accuracy: 0.8060 - val_loss: 0.3757 - val_accuracy: 0.8344\n",
      "Epoch 3/10\n"
     ]
    },
    {
     "name": "stderr",
     "output_type": "stream",
     "text": [
      "2022-05-08 23:34:41.022389: W tensorflow/core/kernels/data/cache_dataset_ops.cc:768] The calling iterator did not fully read the dataset being cached. In order to avoid unexpected truncation of the dataset, the partially cached contents of the dataset  will be discarded. This can happen if you have an input pipeline similar to `dataset.cache().take(k).repeat()`. You should use `dataset.take(k).cache().repeat()` instead.\n"
     ]
    },
    {
     "name": "stdout",
     "output_type": "stream",
     "text": [
      "391/391 [==============================] - 42s 108ms/step - loss: 0.3578 - accuracy: 0.8468 - val_loss: 0.3533 - val_accuracy: 0.8344\n",
      "Epoch 4/10\n"
     ]
    },
    {
     "name": "stderr",
     "output_type": "stream",
     "text": [
      "2022-05-08 23:35:23.272645: W tensorflow/core/kernels/data/cache_dataset_ops.cc:768] The calling iterator did not fully read the dataset being cached. In order to avoid unexpected truncation of the dataset, the partially cached contents of the dataset  will be discarded. This can happen if you have an input pipeline similar to `dataset.cache().take(k).repeat()`. You should use `dataset.take(k).cache().repeat()` instead.\n"
     ]
    },
    {
     "name": "stdout",
     "output_type": "stream",
     "text": [
      "391/391 [==============================] - 42s 107ms/step - loss: 0.3286 - accuracy: 0.8577 - val_loss: 0.3359 - val_accuracy: 0.8484\n",
      "Epoch 5/10\n"
     ]
    },
    {
     "name": "stderr",
     "output_type": "stream",
     "text": [
      "2022-05-08 23:36:05.409827: W tensorflow/core/kernels/data/cache_dataset_ops.cc:768] The calling iterator did not fully read the dataset being cached. In order to avoid unexpected truncation of the dataset, the partially cached contents of the dataset  will be discarded. This can happen if you have an input pipeline similar to `dataset.cache().take(k).repeat()`. You should use `dataset.take(k).cache().repeat()` instead.\n"
     ]
    },
    {
     "name": "stdout",
     "output_type": "stream",
     "text": [
      "391/391 [==============================] - 42s 108ms/step - loss: 0.3164 - accuracy: 0.8645 - val_loss: 0.3327 - val_accuracy: 0.8536\n",
      "Epoch 6/10\n"
     ]
    },
    {
     "name": "stderr",
     "output_type": "stream",
     "text": [
      "2022-05-08 23:36:47.618428: W tensorflow/core/kernels/data/cache_dataset_ops.cc:768] The calling iterator did not fully read the dataset being cached. In order to avoid unexpected truncation of the dataset, the partially cached contents of the dataset  will be discarded. This can happen if you have an input pipeline similar to `dataset.cache().take(k).repeat()`. You should use `dataset.take(k).cache().repeat()` instead.\n"
     ]
    },
    {
     "name": "stdout",
     "output_type": "stream",
     "text": [
      "391/391 [==============================] - 42s 107ms/step - loss: 0.3101 - accuracy: 0.8680 - val_loss: 0.3286 - val_accuracy: 0.8568\n",
      "Epoch 7/10\n"
     ]
    },
    {
     "name": "stderr",
     "output_type": "stream",
     "text": [
      "2022-05-08 23:37:29.757068: W tensorflow/core/kernels/data/cache_dataset_ops.cc:768] The calling iterator did not fully read the dataset being cached. In order to avoid unexpected truncation of the dataset, the partially cached contents of the dataset  will be discarded. This can happen if you have an input pipeline similar to `dataset.cache().take(k).repeat()`. You should use `dataset.take(k).cache().repeat()` instead.\n"
     ]
    },
    {
     "name": "stdout",
     "output_type": "stream",
     "text": [
      "391/391 [==============================] - 42s 107ms/step - loss: 0.3041 - accuracy: 0.8686 - val_loss: 0.3234 - val_accuracy: 0.8547\n",
      "Epoch 8/10\n"
     ]
    },
    {
     "name": "stderr",
     "output_type": "stream",
     "text": [
      "2022-05-08 23:38:11.873920: W tensorflow/core/kernels/data/cache_dataset_ops.cc:768] The calling iterator did not fully read the dataset being cached. In order to avoid unexpected truncation of the dataset, the partially cached contents of the dataset  will be discarded. This can happen if you have an input pipeline similar to `dataset.cache().take(k).repeat()`. You should use `dataset.take(k).cache().repeat()` instead.\n"
     ]
    },
    {
     "name": "stdout",
     "output_type": "stream",
     "text": [
      "391/391 [==============================] - 42s 108ms/step - loss: 0.2987 - accuracy: 0.8722 - val_loss: 0.3189 - val_accuracy: 0.8521\n",
      "Epoch 9/10\n"
     ]
    },
    {
     "name": "stderr",
     "output_type": "stream",
     "text": [
      "2022-05-08 23:38:54.038140: W tensorflow/core/kernels/data/cache_dataset_ops.cc:768] The calling iterator did not fully read the dataset being cached. In order to avoid unexpected truncation of the dataset, the partially cached contents of the dataset  will be discarded. This can happen if you have an input pipeline similar to `dataset.cache().take(k).repeat()`. You should use `dataset.take(k).cache().repeat()` instead.\n"
     ]
    },
    {
     "name": "stdout",
     "output_type": "stream",
     "text": [
      "391/391 [==============================] - 42s 106ms/step - loss: 0.2989 - accuracy: 0.8717 - val_loss: 0.3216 - val_accuracy: 0.8625\n",
      "Epoch 10/10\n"
     ]
    },
    {
     "name": "stderr",
     "output_type": "stream",
     "text": [
      "2022-05-08 23:39:35.732116: W tensorflow/core/kernels/data/cache_dataset_ops.cc:768] The calling iterator did not fully read the dataset being cached. In order to avoid unexpected truncation of the dataset, the partially cached contents of the dataset  will be discarded. This can happen if you have an input pipeline similar to `dataset.cache().take(k).repeat()`. You should use `dataset.take(k).cache().repeat()` instead.\n"
     ]
    },
    {
     "name": "stdout",
     "output_type": "stream",
     "text": [
      "391/391 [==============================] - 41s 106ms/step - loss: 0.2969 - accuracy: 0.8733 - val_loss: 0.3226 - val_accuracy: 0.8594\n"
     ]
    },
    {
     "name": "stderr",
     "output_type": "stream",
     "text": [
      "2022-05-08 23:40:17.148871: W tensorflow/core/kernels/data/cache_dataset_ops.cc:768] The calling iterator did not fully read the dataset being cached. In order to avoid unexpected truncation of the dataset, the partially cached contents of the dataset  will be discarded. This can happen if you have an input pipeline similar to `dataset.cache().take(k).repeat()`. You should use `dataset.take(k).cache().repeat()` instead.\n"
     ]
    }
   ],
   "source": [
    "history = model.fit(train_dataset, epochs=10,\n",
    "                    validation_data=test_dataset,\n",
    "                    validation_steps=30)"
   ]
  },
  {
   "cell_type": "code",
   "execution_count": 14,
   "metadata": {},
   "outputs": [
    {
     "name": "stdout",
     "output_type": "stream",
     "text": [
      "391/391 [==============================] - 21s 53ms/step - loss: 0.3193 - accuracy: 0.8626\n",
      "Test Loss: 0.3193216025829315\n",
      "Test Accuracy: 0.8626400232315063\n"
     ]
    }
   ],
   "source": [
    "test_loss, test_acc = model.evaluate(test_dataset)\n",
    "\n",
    "print('Test Loss:', test_loss)\n",
    "print('Test Accuracy:', test_acc)"
   ]
  },
  {
   "cell_type": "code",
   "execution_count": 15,
   "metadata": {},
   "outputs": [
    {
     "data": {
      "text/plain": [
       "(0.0, 0.6457187205553054)"
      ]
     },
     "execution_count": 15,
     "metadata": {},
     "output_type": "execute_result"
    },
    {
     "data": {
      "image/png": "[encoded data removed]",
      "text/plain": [
       "<Figure size 1152x576 with 2 Axes>"
      ]
     },
     "metadata": {
      "needs_background": "light"
     },
     "output_type": "display_data"
    }
   ],
   "source": [
    "import matplotlib.pyplot as plt\n",
    "\n",
    "def plot_graphs(history, metric):\n",
    "    plt.plot(history.history[metric])\n",
    "    plt.plot(history.history['val_'+metric], '')\n",
    "    plt.xlabel(\"Epochs\")\n",
    "    plt.ylabel(metric)\n",
    "    plt.legend([metric, 'val_'+metric])\n",
    "\n",
    "plt.figure(figsize=(16, 8))\n",
    "plt.subplot(1, 2, 1)\n",
    "plot_graphs(history, 'accuracy')\n",
    "plt.ylim(None, 1)\n",
    "plt.subplot(1, 2, 2)\n",
    "plot_graphs(history, 'loss')\n",
    "plt.ylim(0, None)"
   ]
  },
  {
   "cell_type": "markdown",
   "metadata": {},
   "source": [
    "Run a prediction on a new sentence: If the prediction is >= `0.0`, it is positive else it is negative."
   ]
  },
  {
   "cell_type": "code",
   "execution_count": 16,
   "metadata": {},
   "outputs": [],
   "source": [
    "sample_text = ('The movie was cool. The animation and the graphics '\n",
    "               'were out of this world. I would recommend this movie.')\n",
    "predictions = model.predict(np.array([sample_text]))"
   ]
  },
  {
   "cell_type": "markdown",
   "metadata": {},
   "source": [
    "#### Stack two or more LSTM layers\n",
    "\n",
    "Keras recurrent layers have two available modes that are controlled by the `return_sequences` constructor argument:\n",
    "\n",
    "* If `False` it returns only the last output for each input sequence (a 2D tensor of shape (batch_size, output_features)). This is the default, used in the previous model.\n",
    "* If `True` the full sequences of successive outputs for each timestep is returned (a 3D tensor of shape `(batch_size, timesteps, output_features)`).\n",
    "\n",
    "Here is what the flow of information looks like with `return_sequences=True`:\n",
    "\n",
    "![layered_bidirectional](images/layered-bidirectional.png)\n",
    "\n",
    "The interesting thing about using an RNN with return_sequences=True is that the output still has 3-axes, like the input, so it can be passed to another RNN layer, like this:"
   ]
  },
  {
   "cell_type": "code",
   "execution_count": 17,
   "metadata": {},
   "outputs": [],
   "source": [
    "model_stacked = tf.keras.Sequential([\n",
    "    encoder,\n",
    "    tf.keras.layers.Embedding(len(encoder.get_vocabulary()), 64, mask_zero=True),\n",
    "    tf.keras.layers.Bidirectional(tf.keras.layers.LSTM(64, return_sequences=True)),\n",
    "    tf.keras.layers.Bidirectional(tf.keras.layers.LSTM(32)),\n",
    "    tf.keras.layers.Dense(64, activation='relu'),\n",
    "    tf.keras.layers.Dropout(0.5),\n",
    "    tf.keras.layers.Dense(1)\n",
    "])"
   ]
  },
  {
   "cell_type": "code",
   "execution_count": 18,
   "metadata": {},
   "outputs": [],
   "source": [
    "model_stacked.compile(loss=tf.keras.losses.BinaryCrossentropy(from_logits=True),\n",
    "                      optimizer=tf.keras.optimizers.Adam(1e-4),\n",
    "                      metrics=['accuracy'])"
   ]
  },
  {
   "cell_type": "code",
   "execution_count": 19,
   "metadata": {},
   "outputs": [
    {
     "name": "stdout",
     "output_type": "stream",
     "text": [
      "Epoch 1/10\n",
      "391/391 [==============================] - 95s 212ms/step - loss: 0.6283 - accuracy: 0.5935 - val_loss: 0.4512 - val_accuracy: 0.7865\n",
      "Epoch 2/10\n",
      "391/391 [==============================] - 79s 202ms/step - loss: 0.4080 - accuracy: 0.8217 - val_loss: 0.3707 - val_accuracy: 0.8339\n",
      "Epoch 3/10\n",
      "391/391 [==============================] - 79s 201ms/step - loss: 0.3474 - accuracy: 0.8550 - val_loss: 0.3339 - val_accuracy: 0.8510\n",
      "Epoch 4/10\n",
      "391/391 [==============================] - 79s 202ms/step - loss: 0.3325 - accuracy: 0.8610 - val_loss: 0.3256 - val_accuracy: 0.8641\n",
      "Epoch 5/10\n",
      "391/391 [==============================] - 78s 200ms/step - loss: 0.3172 - accuracy: 0.8678 - val_loss: 0.3217 - val_accuracy: 0.8578\n",
      "Epoch 6/10\n",
      "391/391 [==============================] - 78s 200ms/step - loss: 0.3095 - accuracy: 0.8702 - val_loss: 0.3236 - val_accuracy: 0.8594\n",
      "Epoch 7/10\n",
      "391/391 [==============================] - 78s 200ms/step - loss: 0.3072 - accuracy: 0.8703 - val_loss: 0.3244 - val_accuracy: 0.8505\n",
      "Epoch 8/10\n",
      "391/391 [==============================] - 79s 201ms/step - loss: 0.3024 - accuracy: 0.8714 - val_loss: 0.3189 - val_accuracy: 0.8594\n",
      "Epoch 9/10\n",
      "391/391 [==============================] - 79s 202ms/step - loss: 0.2990 - accuracy: 0.8742 - val_loss: 0.3188 - val_accuracy: 0.8562\n",
      "Epoch 10/10\n",
      "391/391 [==============================] - 79s 202ms/step - loss: 0.2987 - accuracy: 0.8754 - val_loss: 0.3255 - val_accuracy: 0.8443\n"
     ]
    }
   ],
   "source": [
    "history = model_stacked.fit(train_dataset, epochs=10,\n",
    "                            validation_data=test_dataset,\n",
    "                            validation_steps=30)"
   ]
  },
  {
   "cell_type": "code",
   "execution_count": 20,
   "metadata": {},
   "outputs": [
    {
     "name": "stdout",
     "output_type": "stream",
     "text": [
      "391/391 [==============================] - 38s 98ms/step - loss: 0.3216 - accuracy: 0.8484\n",
      "Test Loss: 0.3216036856174469\n",
      "Test Accuracy: 0.8483999967575073\n"
     ]
    }
   ],
   "source": [
    "test_loss, test_acc = model_stacked.evaluate(test_dataset)\n",
    "\n",
    "print('Test Loss:', test_loss)\n",
    "print('Test Accuracy:', test_acc)"
   ]
  },
  {
   "cell_type": "code",
   "execution_count": 21,
   "metadata": {},
   "outputs": [
    {
     "name": "stdout",
     "output_type": "stream",
     "text": [
      "[[-2.1470659]]\n"
     ]
    }
   ],
   "source": [
    "sample_text = ('The movie was not good. The animation and the graphics '\n",
    "               'were terrible. I would not recommend this movie.')\n",
    "predictions = model_stacked.predict(np.array([sample_text]))\n",
    "print(predictions)"
   ]
  },
  {
   "cell_type": "code",
   "execution_count": 22,
   "metadata": {},
   "outputs": [
    {
     "data": {
      "image/png": "[encoded data removed]",
      "text/plain": [
       "<Figure size 1152x432 with 2 Axes>"
      ]
     },
     "metadata": {
      "needs_background": "light"
     },
     "output_type": "display_data"
    }
   ],
   "source": [
    "plt.figure(figsize=(16, 6))\n",
    "plt.subplot(1, 2, 1)\n",
    "plot_graphs(history, 'accuracy')\n",
    "plt.subplot(1, 2, 2)\n",
    "plot_graphs(history, 'loss')"
   ]
  },
  {
   "cell_type": "code",
   "execution_count": 27,
   "metadata": {},
   "outputs": [
    {
     "name": "stderr",
     "output_type": "stream",
     "text": [
      "WARNING:absl:Found untraced functions such as lstm_cell_4_layer_call_fn, lstm_cell_4_layer_call_and_return_conditional_losses, lstm_cell_5_layer_call_fn, lstm_cell_5_layer_call_and_return_conditional_losses, lstm_cell_7_layer_call_fn while saving (showing 5 of 8). These functions will not be directly callable after loading.\n"
     ]
    },
    {
     "name": "stdout",
     "output_type": "stream",
     "text": [
      "INFO:tensorflow:Assets written to: text-classification/stacked/assets\n"
     ]
    },
    {
     "name": "stderr",
     "output_type": "stream",
     "text": [
      "INFO:tensorflow:Assets written to: text-classification/stacked/assets\n",
      "WARNING:absl:<keras.layers.recurrent.LSTMCell object at 0x7ff7802ddf40> has the same name 'LSTMCell' as a built-in Keras object. Consider renaming <class 'keras.layers.recurrent.LSTMCell'> to avoid naming conflicts when loading with `tf.keras.models.load_model`. If renaming is not possible, pass the object in the `custom_objects` parameter of the load function.\n",
      "WARNING:absl:<keras.layers.recurrent.LSTMCell object at 0x7ff780557850> has the same name 'LSTMCell' as a built-in Keras object. Consider renaming <class 'keras.layers.recurrent.LSTMCell'> to avoid naming conflicts when loading with `tf.keras.models.load_model`. If renaming is not possible, pass the object in the `custom_objects` parameter of the load function.\n",
      "WARNING:absl:<keras.layers.recurrent.LSTMCell object at 0x7ff78020f640> has the same name 'LSTMCell' as a built-in Keras object. Consider renaming <class 'keras.layers.recurrent.LSTMCell'> to avoid naming conflicts when loading with `tf.keras.models.load_model`. If renaming is not possible, pass the object in the `custom_objects` parameter of the load function.\n",
      "WARNING:absl:<keras.layers.recurrent.LSTMCell object at 0x7ff780258c40> has the same name 'LSTMCell' as a built-in Keras object. Consider renaming <class 'keras.layers.recurrent.LSTMCell'> to avoid naming conflicts when loading with `tf.keras.models.load_model`. If renaming is not possible, pass the object in the `custom_objects` parameter of the load function.\n"
     ]
    }
   ],
   "source": [
    "model_stacked.save('text-classification/stacked')"
   ]
  },
  {
   "cell_type": "code",
   "execution_count": 24,
   "metadata": {},
   "outputs": [
    {
     "name": "stderr",
     "output_type": "stream",
     "text": [
      "WARNING:absl:Found untraced functions such as lstm_cell_1_layer_call_fn, lstm_cell_1_layer_call_and_return_conditional_losses, lstm_cell_2_layer_call_fn, lstm_cell_2_layer_call_and_return_conditional_losses while saving (showing 4 of 4). These functions will not be directly callable after loading.\n"
     ]
    },
    {
     "name": "stdout",
     "output_type": "stream",
     "text": [
      "INFO:tensorflow:Assets written to: text-classification/one-layer/assets\n"
     ]
    },
    {
     "name": "stderr",
     "output_type": "stream",
     "text": [
      "INFO:tensorflow:Assets written to: text-classification/one-layer/assets\n",
      "WARNING:absl:<keras.layers.recurrent.LSTMCell object at 0x7ff85c476700> has the same name 'LSTMCell' as a built-in Keras object. Consider renaming <class 'keras.layers.recurrent.LSTMCell'> to avoid naming conflicts when loading with `tf.keras.models.load_model`. If renaming is not possible, pass the object in the `custom_objects` parameter of the load function.\n",
      "WARNING:absl:<keras.layers.recurrent.LSTMCell object at 0x7ff85c510ca0> has the same name 'LSTMCell' as a built-in Keras object. Consider renaming <class 'keras.layers.recurrent.LSTMCell'> to avoid naming conflicts when loading with `tf.keras.models.load_model`. If renaming is not possible, pass the object in the `custom_objects` parameter of the load function.\n"
     ]
    }
   ],
   "source": [
    "model.save('text-classification/one-layer')"
   ]
  },
  {
   "cell_type": "code",
   "execution_count": null,
   "metadata": {},
   "outputs": [],
   "source": []
  }
 ],
 "metadata": {
  "kernelspec": {
   "display_name": "Python 3 (ipykernel)",
   "language": "python",
   "name": "python3"
  },
  "language_info": {
   "codemirror_mode": {
    "name": "ipython",
    "version": 3
   },
   "file_extension": ".py",
   "mimetype": "text/x-python",
   "name": "python",
   "nbconvert_exporter": "python",
   "pygments_lexer": "ipython3",
   "version": "3.9.12"
  }
 },
 "nbformat": 4,
 "nbformat_minor": 4
}
